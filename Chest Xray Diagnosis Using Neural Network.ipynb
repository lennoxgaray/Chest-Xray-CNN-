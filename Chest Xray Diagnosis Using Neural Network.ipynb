{
 "cells": [
  {
   "cell_type": "code",
   "execution_count": 2,
   "id": "be9a4331",
   "metadata": {
    "scrolled": true
   },
   "outputs": [],
   "source": [
    "import os\n",
    "os.getcwd()\n",
    "os.chdir(r'C:\\Users\\windows\\Downloads')"
   ]
  },
  {
   "cell_type": "code",
   "execution_count": 3,
   "id": "d95a1df6",
   "metadata": {},
   "outputs": [],
   "source": [
    "import tensorflow as  tf\n",
    "from keras.preprocessing.image import ImageDataGenerator\n"
   ]
  },
  {
   "cell_type": "code",
   "execution_count": 18,
   "id": "a6b3d791",
   "metadata": {},
   "outputs": [
    {
     "name": "stdout",
     "output_type": "stream",
     "text": [
      "Found 5214 images belonging to 2 classes.\n"
     ]
    }
   ],
   "source": [
    "## Preprocessing the Training Set \n",
    "train_datagen = ImageDataGenerator(\n",
    "    rescale =1./255, ## Feature scaling to get individual pixels \n",
    "    shear_range = 0.2, # Geometric transformations to reduce overfitting \n",
    "    zoom_range = 0.2,  # \"\" ^\n",
    "    horizontal_flip=True)\n",
    "\n",
    "training_set = train_datagen.flow_from_directory(\n",
    "    'chest_xray/train', \n",
    "    target_size = (64,64),\n",
    "    batch_size = 32, \n",
    "    class_mode = 'binary')\n"
   ]
  },
  {
   "cell_type": "code",
   "execution_count": 19,
   "id": "d1f619e1",
   "metadata": {},
   "outputs": [
    {
     "name": "stdout",
     "output_type": "stream",
     "text": [
      "Found 624 images belonging to 2 classes.\n"
     ]
    }
   ],
   "source": [
    "## Preprocessing the test set \n",
    "\n",
    "test_datagen = ImageDataGenerator(1./255) \n",
    "test_set = test_datagen.flow_from_directory(\n",
    "    'chest_xray/test', \n",
    "    target_size = (64,64),\n",
    "    batch_size = 32, \n",
    "    class_mode = 'binary')"
   ]
  },
  {
   "cell_type": "code",
   "execution_count": 34,
   "id": "943b846a",
   "metadata": {},
   "outputs": [],
   "source": [
    "## Building the CNN \n",
    "\n",
    "cnn = tf.keras.models.Sequential()\n",
    "cnn.add(tf.keras.layers.Conv2D(filters=64,kernel_size=3, activation='relu', input_shape=[64,64,3])) ## Change the filter if needed to investigate different results\n",
    "\n",
    "## Pooling \n",
    "\n",
    "cnn.add(tf.keras.layers.MaxPool2D(pool_size=2, strides=2))\n",
    "\n",
    "## 2nd Layer \n",
    "cnn.add(tf.keras.layers.Conv2D(filters=128,kernel_size=3, activation='relu')) ## Change the filter if needed to investigate different results\n",
    "cnn.add(tf.keras.layers.MaxPool2D(pool_size=2, strides=2))\n",
    "\n",
    "## Flattening \n",
    "\n",
    "cnn.add(tf.keras.layers.Flatten())\n",
    "\n",
    "## Full Connection \n",
    "\n",
    "cnn.add(tf.keras.layers.Dense(units = 128, activation = 'relu')) ## More units might yield better results \n",
    "\n",
    "## Output Layer \n",
    "\n",
    "cnn.add(tf.keras.layers.Dense(units = 1, activation = 'sigmoid')) ## Binary classification = sigmoid activation, 1 neuron in output layer\n",
    "\n",
    "\n"
   ]
  },
  {
   "cell_type": "code",
   "execution_count": 35,
   "id": "67cba89e",
   "metadata": {},
   "outputs": [],
   "source": [
    "## Training the CNN \n",
    "cnn.compile(optimizer = 'adam', loss = 'binary_crossentropy', metrics=[ 'accuracy' ])"
   ]
  },
  {
   "cell_type": "code",
   "execution_count": 36,
   "id": "7ac9bd8a",
   "metadata": {},
   "outputs": [
    {
     "name": "stdout",
     "output_type": "stream",
     "text": [
      "Epoch 1/27\n",
      "163/163 [==============================] - 47s 288ms/step - loss: 0.3840 - accuracy: 0.8299 - val_loss: 51.1300 - val_accuracy: 0.8221\n",
      "Epoch 2/27\n",
      "163/163 [==============================] - 46s 285ms/step - loss: 0.2408 - accuracy: 0.8966 - val_loss: 50.8230 - val_accuracy: 0.8446\n",
      "Epoch 3/27\n",
      "163/163 [==============================] - 46s 279ms/step - loss: 0.2054 - accuracy: 0.9145 - val_loss: 46.9545 - val_accuracy: 0.8814\n",
      "Epoch 4/27\n",
      "163/163 [==============================] - 46s 280ms/step - loss: 0.1862 - accuracy: 0.9271 - val_loss: 79.4869 - val_accuracy: 0.8494\n",
      "Epoch 5/27\n",
      "163/163 [==============================] - 46s 283ms/step - loss: 0.1585 - accuracy: 0.9392 - val_loss: 48.2169 - val_accuracy: 0.8798\n",
      "Epoch 6/27\n",
      "163/163 [==============================] - 46s 280ms/step - loss: 0.1660 - accuracy: 0.9379 - val_loss: 50.8882 - val_accuracy: 0.8798\n",
      "Epoch 7/27\n",
      "163/163 [==============================] - 47s 286ms/step - loss: 0.1470 - accuracy: 0.9425 - val_loss: 57.0109 - val_accuracy: 0.8990\n",
      "Epoch 8/27\n",
      "163/163 [==============================] - 47s 289ms/step - loss: 0.1392 - accuracy: 0.9473 - val_loss: 83.2115 - val_accuracy: 0.8638\n",
      "Epoch 9/27\n",
      "163/163 [==============================] - 46s 283ms/step - loss: 0.1407 - accuracy: 0.9457 - val_loss: 67.7535 - val_accuracy: 0.8862\n",
      "Epoch 10/27\n",
      "163/163 [==============================] - 46s 284ms/step - loss: 0.1383 - accuracy: 0.9469 - val_loss: 97.1755 - val_accuracy: 0.8462\n",
      "Epoch 11/27\n",
      "163/163 [==============================] - 46s 285ms/step - loss: 0.1393 - accuracy: 0.9480 - val_loss: 66.9176 - val_accuracy: 0.8718\n",
      "Epoch 12/27\n",
      "163/163 [==============================] - 46s 281ms/step - loss: 0.1330 - accuracy: 0.9494 - val_loss: 76.8872 - val_accuracy: 0.8670\n",
      "Epoch 13/27\n",
      "163/163 [==============================] - 46s 280ms/step - loss: 0.1301 - accuracy: 0.9524 - val_loss: 63.6455 - val_accuracy: 0.8894\n",
      "Epoch 14/27\n",
      "163/163 [==============================] - 46s 280ms/step - loss: 0.1334 - accuracy: 0.9513 - val_loss: 61.0909 - val_accuracy: 0.8910\n",
      "Epoch 15/27\n",
      "163/163 [==============================] - 45s 277ms/step - loss: 0.1189 - accuracy: 0.9565 - val_loss: 71.6330 - val_accuracy: 0.8974\n",
      "Epoch 16/27\n",
      "163/163 [==============================] - 46s 284ms/step - loss: 0.1215 - accuracy: 0.9545 - val_loss: 68.4136 - val_accuracy: 0.9006\n",
      "Epoch 17/27\n",
      "163/163 [==============================] - 46s 283ms/step - loss: 0.1218 - accuracy: 0.9526 - val_loss: 83.5022 - val_accuracy: 0.8846\n",
      "Epoch 18/27\n",
      "163/163 [==============================] - 46s 282ms/step - loss: 0.1118 - accuracy: 0.9586 - val_loss: 89.1069 - val_accuracy: 0.8798\n",
      "Epoch 19/27\n",
      "163/163 [==============================] - 46s 283ms/step - loss: 0.1160 - accuracy: 0.9553 - val_loss: 71.8570 - val_accuracy: 0.8814\n",
      "Epoch 20/27\n",
      "163/163 [==============================] - 47s 286ms/step - loss: 0.1040 - accuracy: 0.9622 - val_loss: 112.6560 - val_accuracy: 0.8365\n",
      "Epoch 21/27\n",
      "163/163 [==============================] - 46s 283ms/step - loss: 0.1063 - accuracy: 0.9601 - val_loss: 91.2921 - val_accuracy: 0.8670\n",
      "Epoch 22/27\n",
      "163/163 [==============================] - 46s 280ms/step - loss: 0.0972 - accuracy: 0.9641 - val_loss: 131.9834 - val_accuracy: 0.8125\n",
      "Epoch 23/27\n",
      "163/163 [==============================] - 46s 282ms/step - loss: 0.0986 - accuracy: 0.9628 - val_loss: 75.5240 - val_accuracy: 0.8718\n",
      "Epoch 24/27\n",
      "163/163 [==============================] - 46s 280ms/step - loss: 0.0971 - accuracy: 0.9616 - val_loss: 92.0667 - val_accuracy: 0.8846\n",
      "Epoch 25/27\n",
      "163/163 [==============================] - 46s 280ms/step - loss: 0.0957 - accuracy: 0.9649 - val_loss: 100.1969 - val_accuracy: 0.8846\n",
      "Epoch 26/27\n",
      "163/163 [==============================] - 46s 279ms/step - loss: 0.0959 - accuracy: 0.9653 - val_loss: 87.8133 - val_accuracy: 0.8814\n",
      "Epoch 27/27\n",
      "163/163 [==============================] - 45s 278ms/step - loss: 0.0927 - accuracy: 0.9664 - val_loss: 88.9475 - val_accuracy: 0.8814\n"
     ]
    },
    {
     "data": {
      "text/plain": [
       "<keras.callbacks.History at 0x2018aff3730>"
      ]
     },
     "execution_count": 36,
     "metadata": {},
     "output_type": "execute_result"
    }
   ],
   "source": [
    "cnn.fit(x = training_set, validation_data = test_set, epochs = 27)"
   ]
  },
  {
   "cell_type": "code",
   "execution_count": 23,
   "id": "c9586c32",
   "metadata": {},
   "outputs": [
    {
     "name": "stdout",
     "output_type": "stream",
     "text": [
      "1/1 [==============================] - 0s 65ms/step\n"
     ]
    }
   ],
   "source": [
    "## Making a single Prediction \n",
    "\n",
    "import numpy as np \n",
    "from keras.preprocessing import image \n",
    "\n",
    "test_image = tf.keras.preprocessing.image.load_img('chest_xray/single_prediction/person1_bacteria_1.jpeg', target_size = (64,64))\n",
    "test_image = tf.keras.preprocessing.image.img_to_array(test_image)\n",
    "test_image = np.expand_dims(test_image, axis=0)\n",
    "result = cnn.predict(test_image)\n",
    "training_set.class_indices ## Tells us which index corresponds to what 'value'\n",
    "if result[0][0] == 0:\n",
    "    prediction = 'This patient is healthy'\n",
    "else: \n",
    "    prediction = 'This patient has pneumonia'"
   ]
  },
  {
   "cell_type": "code",
   "execution_count": 24,
   "id": "20ac33c3",
   "metadata": {},
   "outputs": [
    {
     "name": "stdout",
     "output_type": "stream",
     "text": [
      "This patient has pneumonia\n"
     ]
    }
   ],
   "source": [
    "print(prediction)"
   ]
  },
  {
   "cell_type": "markdown",
   "id": "ae50feb1",
   "metadata": {},
   "source": []
  },
  {
   "cell_type": "code",
   "execution_count": 28,
   "id": "2eed0523",
   "metadata": {},
   "outputs": [
    {
     "name": "stdout",
     "output_type": "stream",
     "text": [
      "Model: \"sequential_1\"\n",
      "_________________________________________________________________\n",
      " Layer (type)                Output Shape              Param #   \n",
      "=================================================================\n",
      " conv2d_2 (Conv2D)           (None, 62, 62, 32)        896       \n",
      "                                                                 \n",
      " max_pooling2d_2 (MaxPooling  (None, 31, 31, 32)       0         \n",
      " 2D)                                                             \n",
      "                                                                 \n",
      " conv2d_3 (Conv2D)           (None, 29, 29, 32)        9248      \n",
      "                                                                 \n",
      " max_pooling2d_3 (MaxPooling  (None, 14, 14, 32)       0         \n",
      " 2D)                                                             \n",
      "                                                                 \n",
      " flatten_1 (Flatten)         (None, 6272)              0         \n",
      "                                                                 \n",
      " dense_2 (Dense)             (None, 128)               802944    \n",
      "                                                                 \n",
      " dense_3 (Dense)             (None, 1)                 129       \n",
      "                                                                 \n",
      "=================================================================\n",
      "Total params: 813,217\n",
      "Trainable params: 813,217\n",
      "Non-trainable params: 0\n",
      "_________________________________________________________________\n"
     ]
    }
   ],
   "source": [
    "m = tf.keras.metrics.FalseNegatives()\n",
    "m.result().numpy()\n",
    "\n",
    "cnn.summary()"
   ]
  },
  {
   "cell_type": "code",
   "execution_count": null,
   "id": "750734df",
   "metadata": {},
   "outputs": [],
   "source": []
  }
 ],
 "metadata": {
  "kernelspec": {
   "display_name": "Python 3 (ipykernel)",
   "language": "python",
   "name": "python3"
  },
  "language_info": {
   "codemirror_mode": {
    "name": "ipython",
    "version": 3
   },
   "file_extension": ".py",
   "mimetype": "text/x-python",
   "name": "python",
   "nbconvert_exporter": "python",
   "pygments_lexer": "ipython3",
   "version": "3.9.12"
  }
 },
 "nbformat": 4,
 "nbformat_minor": 5
}
